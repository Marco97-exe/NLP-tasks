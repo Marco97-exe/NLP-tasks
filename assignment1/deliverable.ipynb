{
 "cells": [
  {
   "cell_type": "code",
   "execution_count": null,
   "metadata": {},
   "outputs": [],
   "source": [
    "#to print all output for a cell instead of only last one \n",
    "\n",
    "from IPython.core.interactiveshell import InteractiveShell\n",
    "InteractiveShell.ast_node_interactivity = 'all'"
   ]
  },
  {
   "cell_type": "markdown",
   "metadata": {},
   "source": [
    "import and fixed seed "
   ]
  },
  {
   "cell_type": "code",
   "execution_count": null,
   "metadata": {},
   "outputs": [],
   "source": [
    "import os\n",
    "import sys\n",
    "\n",
    "import torch\n",
    "import random\n",
    "import numpy as np\n",
    "\n",
    "torch.manual_seed(0)\n",
    "random.seed(0)\n",
    "np.random.seed(0)"
   ]
  },
  {
   "cell_type": "markdown",
   "metadata": {},
   "source": [
    "download data (dataset and glove)"
   ]
  },
  {
   "cell_type": "code",
   "execution_count": null,
   "metadata": {},
   "outputs": [],
   "source": [
    "#source of this code -> https://gist.github.com/hantoine/c4fc70b32c2d163f604a8dc2a050d5f6 \n",
    "\n",
    "from urllib.request import urlopen\n",
    "from io import BytesIO\n",
    "from zipfile import ZipFile\n",
    "\n",
    "print(\"Current work directory: {}\".format(os.getcwd()))\n",
    "\n",
    "data_folder = os.path.join(os.getcwd(),\"data\")\n",
    "dataset_folder = os.path.join(data_folder,\"dependency_treebank\")\n",
    "\n",
    "if not os.path.exists(data_folder):\n",
    "    os.makedirs(data_folder)\n",
    "\n",
    "dataset_url = \"https://raw.githubusercontent.com/nltk/nltk_data/gh-pages/packages/corpora/dependency_treebank.zip\"\n",
    "\n",
    "def download_and_unzip(url):\n",
    "    if not os.path.exists(dataset_folder):\n",
    "        print(\"downloading to\",dataset_folder)\n",
    "        with urlopen(url) as response:\n",
    "            zipfile = ZipFile(BytesIO(response.read()))\n",
    "            zipfile.extractall(path=data_folder)\n",
    "    else :\n",
    "        print(\"the dataset has been already downloaded\")\n",
    "\n",
    "\n",
    "download_and_unzip(dataset_url)\n"
   ]
  },
  {
   "cell_type": "code",
   "execution_count": null,
   "metadata": {},
   "outputs": [],
   "source": [
    "import gensim\n",
    "import gensim.downloader as gloader\n",
    "\n",
    "def download_glove_emb():\n",
    "    if not os.path.exists(data_folder):   #sbagliato \n",
    "        \n",
    "        embedding_dimension=300\n",
    "        download_path = \"glove-wiki-gigaword-{}\".format(embedding_dimension)\n",
    "        emb_model = gloader.load(download_path)\n",
    "    else :\n",
    "        print(\"is it not necessary to download GloVe embeddings at this point\")\n",
    "\n",
    "print(emb_model)"
   ]
  },
  {
   "cell_type": "code",
   "execution_count": null,
   "metadata": {},
   "outputs": [],
   "source": [
    "import os\n",
    "import pandas as pd\n",
    "\n",
    "#encode dataset in pandas dataframe \n",
    "\n",
    "def encode_dataset(dataset_name: str) -> pd.DataFrame:\n",
    "    \n",
    "    dataframe_rows = []                                  #dataframe that will contain all the sentences in all the documents, each sentence as a list of word and a list of corresponding tags\n",
    "    unique_tags = set()\n",
    "\n",
    "    for doc in os.listdir(dataset_folder):\n",
    "      doc_num = int(doc[5:8])\n",
    "      doc_path = os.path.join(dataset_folder,doc)\n",
    "\n",
    "      with open(doc_path, mode='r', encoding='utf-8') as file:\n",
    "        df = pd.read_csv(file,sep='\\t',header=None,skip_blank_lines=False)\n",
    "        df.rename(columns={0:'word',1:\"TAG\",2:\"remove\"},inplace=True)\n",
    "        df.drop(\"remove\",axis=1,inplace=True)\n",
    "        \n",
    "        #create another column that indicate group by sentence \n",
    "        df[\"group_num\"] = df.isnull().all(axis=1).cumsum()\n",
    "        df.dropna(inplace=True)\n",
    "        df.reset_index(drop=True, inplace=True)\n",
    "        \n",
    "        unique_tags.update(df['TAG'].unique())     #save all the unique tags in a set for one-hot encoding \n",
    "\n",
    "        #generate sentence list in a document \n",
    "        df_list = [df.iloc[rows] for _, rows in df.groupby('group_num').groups.items()]\n",
    "        for n,d in enumerate(df_list) :           #for each sentence create a row in the final dataframe\n",
    "            dataframe_row = {\n",
    "                \"split\" : 'train' if doc_num<=100 else ('val' if doc_num<=150  else 'test'),\n",
    "                \"doc_id\" : doc_num,\n",
    "                \"sentence_num\" : n,\n",
    "                \"words\": d['word'].tolist(),\n",
    "                \"tags\":  d['TAG'].tolist()\n",
    "            }\n",
    "            dataframe_rows.append(dataframe_row)\n",
    "\n",
    "    dataframe_path = os.path.join(data_folder, dataset_name)\n",
    "    df_final = pd.DataFrame(dataframe_rows)\n",
    "    df_final.to_csv(dataframe_path + \".csv\")                      #save as csv to inspect \n",
    "    df_final.to_pickle(dataframe_path + \".pkl\")                   #save as pickle \n",
    "      \n",
    "    return  df_final, unique_tags\n",
    "\n",
    "\n",
    "print(\"Encoding dataset...\")\n",
    "df, unique_tags = encode_dataset(\"dataset\")\n",
    "print(\"Encoding completed!\")\n"
   ]
  },
  {
   "cell_type": "code",
   "execution_count": 37,
   "metadata": {},
   "outputs": [
    {
     "data": {
      "text/html": [
       "<div>\n",
       "<style scoped>\n",
       "    .dataframe tbody tr th:only-of-type {\n",
       "        vertical-align: middle;\n",
       "    }\n",
       "\n",
       "    .dataframe tbody tr th {\n",
       "        vertical-align: top;\n",
       "    }\n",
       "\n",
       "    .dataframe thead th {\n",
       "        text-align: right;\n",
       "    }\n",
       "</style>\n",
       "<table border=\"1\" class=\"dataframe\">\n",
       "  <thead>\n",
       "    <tr style=\"text-align: right;\">\n",
       "      <th></th>\n",
       "      <th>split</th>\n",
       "      <th>doc_id</th>\n",
       "      <th>sentence_num</th>\n",
       "      <th>words</th>\n",
       "      <th>tags</th>\n",
       "    </tr>\n",
       "  </thead>\n",
       "  <tbody>\n",
       "    <tr>\n",
       "      <th>0</th>\n",
       "      <td>train</td>\n",
       "      <td>1</td>\n",
       "      <td>0</td>\n",
       "      <td>[Pierre, Vinken, ,, 61, years, old, ,, will, j...</td>\n",
       "      <td>[NNP, NNP, ,, CD, NNS, JJ, ,, MD, VB, DT, NN, ...</td>\n",
       "    </tr>\n",
       "    <tr>\n",
       "      <th>1</th>\n",
       "      <td>train</td>\n",
       "      <td>1</td>\n",
       "      <td>1</td>\n",
       "      <td>[Mr., Vinken, is, chairman, of, Elsevier, N.V....</td>\n",
       "      <td>[NNP, NNP, VBZ, NN, IN, NNP, NNP, ,, DT, NNP, ...</td>\n",
       "    </tr>\n",
       "    <tr>\n",
       "      <th>2</th>\n",
       "      <td>train</td>\n",
       "      <td>2</td>\n",
       "      <td>0</td>\n",
       "      <td>[Rudolph, Agnew, ,, 55, years, old, and, forme...</td>\n",
       "      <td>[NNP, NNP, ,, CD, NNS, JJ, CC, JJ, NN, IN, NNP...</td>\n",
       "    </tr>\n",
       "    <tr>\n",
       "      <th>3</th>\n",
       "      <td>train</td>\n",
       "      <td>3</td>\n",
       "      <td>0</td>\n",
       "      <td>[A, form, of, asbestos, once, used, to, make, ...</td>\n",
       "      <td>[DT, NN, IN, NN, RB, VBN, TO, VB, NNP, NN, NNS...</td>\n",
       "    </tr>\n",
       "    <tr>\n",
       "      <th>4</th>\n",
       "      <td>train</td>\n",
       "      <td>3</td>\n",
       "      <td>1</td>\n",
       "      <td>[The, asbestos, fiber, ,, crocidolite, ,, is, ...</td>\n",
       "      <td>[DT, NN, NN, ,, NN, ,, VBZ, RB, JJ, IN, PRP, V...</td>\n",
       "    </tr>\n",
       "  </tbody>\n",
       "</table>\n",
       "</div>"
      ],
      "text/plain": [
       "   split  doc_id  sentence_num  \\\n",
       "0  train       1             0   \n",
       "1  train       1             1   \n",
       "2  train       2             0   \n",
       "3  train       3             0   \n",
       "4  train       3             1   \n",
       "\n",
       "                                               words  \\\n",
       "0  [Pierre, Vinken, ,, 61, years, old, ,, will, j...   \n",
       "1  [Mr., Vinken, is, chairman, of, Elsevier, N.V....   \n",
       "2  [Rudolph, Agnew, ,, 55, years, old, and, forme...   \n",
       "3  [A, form, of, asbestos, once, used, to, make, ...   \n",
       "4  [The, asbestos, fiber, ,, crocidolite, ,, is, ...   \n",
       "\n",
       "                                                tags  \n",
       "0  [NNP, NNP, ,, CD, NNS, JJ, ,, MD, VB, DT, NN, ...  \n",
       "1  [NNP, NNP, VBZ, NN, IN, NNP, NNP, ,, DT, NNP, ...  \n",
       "2  [NNP, NNP, ,, CD, NNS, JJ, CC, JJ, NN, IN, NNP...  \n",
       "3  [DT, NN, IN, NN, RB, VBN, TO, VB, NNP, NN, NNS...  \n",
       "4  [DT, NN, NN, ,, NN, ,, VBZ, RB, JJ, IN, PRP, V...  "
      ]
     },
     "execution_count": 37,
     "metadata": {},
     "output_type": "execute_result"
    },
    {
     "data": {
      "text/plain": [
       "45"
      ]
     },
     "execution_count": 37,
     "metadata": {},
     "output_type": "execute_result"
    },
    {
     "name": "stdout",
     "output_type": "stream",
     "text": [
      "{\"''\", 'RB', 'MD', 'PRP', ',', 'JJS', 'WP', 'CC', 'POS', 'FW', '``', 'EX', 'RBS', 'VBG', 'RP', 'SYM', 'JJ', 'CD', 'VBZ', 'NNPS', 'UH', 'JJR', '-RRB-', 'NNS', 'WDT', 'RBR', 'NNP', '.', 'WRB', 'VBP', 'NN', ':', '-LRB-', 'PRP$', 'WP$', 'DT', 'TO', 'VB', 'VBD', 'IN', 'VBN', '$', '#', 'PDT', 'LS'}\n"
     ]
    }
   ],
   "source": [
    "df.head()\n",
    "len(unique_tags)\n",
    "print(unique_tags)"
   ]
  }
 ],
 "metadata": {
  "interpreter": {
   "hash": "16b10856870a6af5fec4ffddd4d7318a6f2add2c9f3b4bd7caecf75cea33b7bd"
  },
  "kernelspec": {
   "display_name": "Python 3.9.7 64-bit ('nlp': conda)",
   "language": "python",
   "name": "python3"
  },
  "language_info": {
   "codemirror_mode": {
    "name": "ipython",
    "version": 3
   },
   "file_extension": ".py",
   "mimetype": "text/x-python",
   "name": "python",
   "nbconvert_exporter": "python",
   "pygments_lexer": "ipython3",
   "version": "3.9.7"
  },
  "orig_nbformat": 4
 },
 "nbformat": 4,
 "nbformat_minor": 2
}
