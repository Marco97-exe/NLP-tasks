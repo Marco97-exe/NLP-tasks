{
 "cells": [
  {
   "cell_type": "code",
   "execution_count": null,
   "metadata": {},
   "outputs": [],
   "source": [
    "#to print all output for a cell instead of only last one \n",
    "\n",
    "from IPython.core.interactiveshell import InteractiveShell\n",
    "InteractiveShell.ast_node_interactivity = 'all'"
   ]
  },
  {
   "cell_type": "markdown",
   "metadata": {},
   "source": [
    "import and fixed seed "
   ]
  },
  {
   "cell_type": "code",
   "execution_count": null,
   "metadata": {},
   "outputs": [],
   "source": [
    "import os\n",
    "import sys\n",
    "\n",
    "import torch\n",
    "import random\n",
    "import numpy as np\n",
    "\n",
    "torch.manual_seed(0)\n",
    "random.seed(0)\n",
    "np.random.seed(0)"
   ]
  },
  {
   "cell_type": "markdown",
   "metadata": {},
   "source": [
    "download data (dataset and glove)"
   ]
  },
  {
   "cell_type": "code",
   "execution_count": null,
   "metadata": {},
   "outputs": [],
   "source": [
    "#source of this code -> https://gist.github.com/hantoine/c4fc70b32c2d163f604a8dc2a050d5f6 \n",
    "\n",
    "from urllib.request import urlopen\n",
    "from io import BytesIO\n",
    "from zipfile import ZipFile\n",
    "\n",
    "print(\"Current work directory: {}\".format(os.getcwd()))\n",
    "\n",
    "data_folder = os.path.join(os.getcwd(),\"data\")\n",
    "dataset_folder = os.path.join(data_folder,\"dependency_treebank\")\n",
    "\n",
    "if not os.path.exists(data_folder):\n",
    "    os.makedirs(data_folder)\n",
    "\n",
    "dataset_url = \"https://raw.githubusercontent.com/nltk/nltk_data/gh-pages/packages/corpora/dependency_treebank.zip\"\n",
    "\n",
    "def download_and_unzip(url):\n",
    "    if not os.path.exists(dataset_folder):\n",
    "        print(\"downloading to\",dataset_folder)\n",
    "        with urlopen(url) as response:\n",
    "            zipfile = ZipFile(BytesIO(response.read()))\n",
    "            zipfile.extractall(path=data_folder)\n",
    "    else :\n",
    "        print(\"the dataset has been already downloaded\")\n",
    "\n",
    "\n",
    "download_and_unzip(dataset_url)\n"
   ]
  },
  {
   "cell_type": "code",
   "execution_count": null,
   "metadata": {},
   "outputs": [],
   "source": [
    "import gensim\n",
    "import gensim.downloader as gloader\n",
    "\n",
    "def download_glove_emb():\n",
    "    if not os.path.exists(data_folder):   #sbagliato \n",
    "        \n",
    "        embedding_dimension=300\n",
    "        download_path = \"glove-wiki-gigaword-{}\".format(embedding_dimension)\n",
    "        emb_model = gloader.load(download_path)\n",
    "    else :\n",
    "        print(\"is it not necessary to download GloVe embeddings at this point\")\n",
    "\n",
    "print(emb_model)"
   ]
  },
  {
   "cell_type": "code",
   "execution_count": null,
   "metadata": {},
   "outputs": [],
   "source": [
    "import os\n",
    "import pandas as pd\n",
    "\n",
    "#encode dataset in pandas dataframe \n",
    "\n",
    "def encode_dataset(dataset_name: str) -> pd.DataFrame:\n",
    "    \n",
    "    dataframe_rows = []                                  #dataframe that will contain all the sentences in all the documents, each sentence as a list of word and a list of corresponding tags\n",
    "    unique_tags = set()\n",
    "\n",
    "    for doc in os.listdir(dataset_folder):\n",
    "      doc_num = int(doc[5:8])\n",
    "      doc_path = os.path.join(dataset_folder,doc)\n",
    "\n",
    "      with open(doc_path, mode='r', encoding='utf-8') as file:\n",
    "        df = pd.read_csv(file,sep='\\t',header=None,skip_blank_lines=False)\n",
    "        df.rename(columns={0:'word',1:\"TAG\",2:\"remove\"},inplace=True)\n",
    "        df.drop(\"remove\",axis=1,inplace=True)\n",
    "        \n",
    "        #create another column that indicate group by sentence \n",
    "        df[\"group_num\"] = df.isnull().all(axis=1).cumsum()\n",
    "        df.dropna(inplace=True)\n",
    "        df.reset_index(drop=True, inplace=True)\n",
    "        \n",
    "        unique_tags.update(df['TAG'].unique())     #save all the unique tags in a set for one-hot encoding \n",
    "\n",
    "        #generate sentence list in a document \n",
    "        df_list = [df.iloc[rows] for _, rows in df.groupby('group_num').groups.items()]\n",
    "        for n,d in enumerate(df_list) :           #for each sentence create a row in the final dataframe\n",
    "            dataframe_row = {\n",
    "                \"split\" : 'train' if doc_num<=100 else ('val' if doc_num<=150  else 'test'),\n",
    "                \"doc_id\" : doc_num,\n",
    "                \"sentence_num\" : n,\n",
    "                \"words\": d['word'].tolist(),\n",
    "                \"tags\":  d['TAG'].tolist()\n",
    "            }\n",
    "            dataframe_rows.append(dataframe_row)\n",
    "\n",
    "    dataframe_path = os.path.join(data_folder, dataset_name)\n",
    "    df_final = pd.DataFrame(dataframe_rows)\n",
    "    df_final.to_csv(dataframe_path + \".csv\")                      #save as csv to inspect \n",
    "    df_final.to_pickle(dataframe_path + \".pkl\")                   #save as pickle \n",
    "      \n",
    "    return  df_final, unique_tags\n",
    "\n",
    "\n",
    "print(\"Encoding dataset...\")\n",
    "df, unique_tags = encode_dataset(\"dataset\")\n",
    "print(\"Encoding completed!\")\n"
   ]
  },
  {
   "cell_type": "code",
   "execution_count": null,
   "metadata": {},
   "outputs": [],
   "source": [
    "df.head()\n",
    "len(unique_tags)\n",
    "print(unique_tags)"
   ]
  }
 ],
 "metadata": {
  "interpreter": {
   "hash": "16b10856870a6af5fec4ffddd4d7318a6f2add2c9f3b4bd7caecf75cea33b7bd"
  },
  "kernelspec": {
   "display_name": "Python 3.9.7 64-bit ('nlp': conda)",
   "language": "python",
   "name": "python3"
  },
  "language_info": {
   "codemirror_mode": {
    "name": "ipython",
    "version": 3
   },
   "file_extension": ".py",
   "mimetype": "text/x-python",
   "name": "python",
   "nbconvert_exporter": "python",
   "pygments_lexer": "ipython3",
   "version": "3.9.7"
  },
  "orig_nbformat": 4
 },
 "nbformat": 4,
 "nbformat_minor": 2
}
