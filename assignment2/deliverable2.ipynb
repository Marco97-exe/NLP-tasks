{
 "cells": [
  {
   "cell_type": "markdown",
   "metadata": {},
   "source": [
    "# **Fact checking, Neural Languange Inference (NLI)**\n",
    "\n",
    "**Authors**: Giacomo Berselli, Marco Cucè, Riccardo De Matteo"
   ]
  },
  {
   "cell_type": "code",
   "execution_count": null,
   "metadata": {},
   "outputs": [],
   "source": [
    "# to print all output for a cell instead of only last one \n",
    "from IPython.core.interactiveshell import InteractiveShell\n",
    "InteractiveShell.ast_node_interactivity = 'all'"
   ]
  },
  {
   "cell_type": "markdown",
   "metadata": {},
   "source": [
    "### 1. Libraries and Imports "
   ]
  },
  {
   "cell_type": "code",
   "execution_count": null,
   "metadata": {},
   "outputs": [],
   "source": [
    "import os\n",
    "import requests\n",
    "import zipfile\n",
    "import random\n",
    "import string \n",
    "\n",
    "import torch\n",
    "\n",
    "import numpy as np\n",
    "import pandas as pd\n",
    "\n",
    "import gensim\n",
    "import gensim.downloader as gloader\n",
    "\n",
    "import time \n",
    "\n",
    "from collections import OrderedDict, namedtuple\n",
    "\n",
    "# Fix data seed to achieve reproducible results\n",
    "torch.manual_seed(0)\n",
    "random.seed(0)\n",
    "np.random.seed(0)\n",
    "torch.backends.cudnn.benchmark = False\n",
    "torch.backends.cudnn.deterministic = True"
   ]
  },
  {
   "cell_type": "code",
   "execution_count": null,
   "metadata": {},
   "outputs": [],
   "source": [
    "print(\"Current work directory: {}\".format(os.getcwd())) #print the current working directory \n",
    "\n",
    "data_folder = os.path.join(os.getcwd(),\"data\") # directory containing the notebook\n",
    "\n",
    "if not os.path.exists(data_folder):   #create folder where all data will be stored \n",
    "    os.makedirs(data_folder)"
   ]
  },
  {
   "cell_type": "markdown",
   "metadata": {},
   "source": [
    "### 2. Data handling"
   ]
  },
  {
   "cell_type": "markdown",
   "metadata": {},
   "source": [
    "First thing first, we download the raw dataset, unzip it and store the csv document of each split in the dataset folder."
   ]
  },
  {
   "cell_type": "code",
   "execution_count": null,
   "metadata": {},
   "outputs": [],
   "source": [
    "raw_dataset_path = os.path.join(data_folder,'raw_dataset')   #path of the raw dataset as downloaded \n",
    "\n",
    "def save_response_content(response, destination):    \n",
    "    CHUNK_SIZE =32768\n",
    "\n",
    "    with open(destination, \"wb\") as f:\n",
    "        for chunk in response.iter_content(CHUNK_SIZE):\n",
    "            if chunk: # filter out keep-alive new chunks                \n",
    "                f.write(chunk)\n",
    "\n",
    "def download_data(data_folder):\n",
    "    zip_dataset_path = os.path.join(raw_dataset_path,'fever_data.zip')    \n",
    "    data_url_id =\"1wArZhF9_SHW17WKNGeLmX-QTYw9Zscl1\"    \n",
    "    url =\"https://docs.google.com/uc?export=download\"\n",
    "\n",
    "    if not os.path.exists(raw_dataset_path):        \n",
    "        os.makedirs(raw_dataset_path)\n",
    "\n",
    "    if not os.path.exists(zip_dataset_path):\n",
    "        print(\"Downloading FEVER data splits...\")\n",
    "        with requests.Session() as current_session:           \n",
    "            response = current_session.get(url, params={'id': data_url_id}, stream=True)\n",
    "\n",
    "        save_response_content(response, zip_dataset_path)\n",
    "        print(\"Download completed!\")\n",
    "\n",
    "        print(\"Extracting dataset...\")\n",
    "        with zipfile.ZipFile(zip_dataset_path) as loaded_zip:            \n",
    "            loaded_zip.extractall(raw_dataset_path)\n",
    "        print(\"Extraction completed!\")\n",
    "\n",
    "download_data(data_folder)"
   ]
  },
  {
   "cell_type": "markdown",
   "metadata": {},
   "source": [
    "Now that we have the csv files of the train, val and test splits, we encode all three as a unique pandas Dataframe to be able to better inspect it and manipulate it as a whole.\n",
    "The Dataframe `df` is structured as follows: \n",
    "- `claim`: the fact to verify \n",
    "- `evidence`: one of the possibly multiple sentences in the dataset which supports or refutes the `claim`\n",
    "- `id`: number associated to the fact to verify (different rows can have the same `id`)\n",
    "- `label`: wether the evidence REFUTES or SUPPORTS the claim\n",
    "- `split`: the split to which one claim belongs (train, val, test)\n"
   ]
  },
  {
   "cell_type": "code",
   "execution_count": null,
   "metadata": {},
   "outputs": [],
   "source": [
    "#encode the entire dataset in a pandas dataframe and add the split column\n",
    "def encode_dataset(): \n",
    "\n",
    "    df = pd.DataFrame()\n",
    "    for split in ['train','val','test']:\n",
    "        split_path = os.path.join(raw_dataset_path,f\"{split}_pairs.csv\")\n",
    "        split_df = pd.read_csv(split_path,index_col=0)\n",
    "        split_df['split'] = split\n",
    "\n",
    "        df = df.append(split_df,ignore_index=True,)\n",
    "\n",
    "    df.columns = df.columns.str.lower()\n",
    "    df = df.reset_index(drop=True)\n",
    "\n",
    "    return df \n",
    "\n",
    "df = encode_dataset()"
   ]
  },
  {
   "cell_type": "markdown",
   "metadata": {},
   "source": [
    "Let's inspect the newly created dataset "
   ]
  },
  {
   "cell_type": "code",
   "execution_count": null,
   "metadata": {},
   "outputs": [],
   "source": [
    "df.head()\n",
    "print('The splits present in the dataframe are:',df['split'].unique())\n",
    "print('Unique labels in the dataset:',df['label'].unique())"
   ]
  },
  {
   "cell_type": "markdown",
   "metadata": {},
   "source": [
    "From the above results we can see that the dataset has been structured correctly.\\\n",
    "Now we print some values to check the dimensions of the different splits and to retrive useful informations."
   ]
  },
  {
   "cell_type": "code",
   "execution_count": null,
   "metadata": {},
   "outputs": [],
   "source": [
    "print('Dataframe shape:', df.shape)\n",
    "print('Number of example in train:',len(df[df['split']=='train']))\n",
    "print('Number of example in val:',len(df[df['split']=='val']))\n",
    "print('Number of example in test:',len(df[df['split']=='test']))"
   ]
  },
  {
   "cell_type": "markdown",
   "metadata": {},
   "source": [
    "The number of claims in the training split of the dataset is clearly much higher than that of val and test splits."
   ]
  },
  {
   "cell_type": "markdown",
   "metadata": {},
   "source": [
    "The dataset should probably undergo some preprocessing before it can be used to train our model. Even if this was already noticeable from the few examples taken from the dataframe that we printed above, let's now show an examples of an evidence to make more evident the work that we will need to do."
   ]
  },
  {
   "cell_type": "code",
   "execution_count": null,
   "metadata": {},
   "outputs": [],
   "source": [
    "print(list(df.sample(1)['evidence']))"
   ]
  },
  {
   "cell_type": "markdown",
   "metadata": {},
   "source": [
    "### 3. Text preprocessing "
   ]
  },
  {
   "cell_type": "markdown",
   "metadata": {},
   "source": [
    "BOH FORSE QUI TROVARE UN MODO PER VEDERE COSA ANDREBBE PULITO DAL DATASET "
   ]
  },
  {
   "cell_type": "markdown",
   "metadata": {},
   "source": [
    "Both claims and evidence contain a lot of unwanted text: punctuation, symbols, meta-characters, foreign words, tags, ecc. For some reason claims are much cleaner that evidences. Nonetheless we will preprocess both of them, to end up with a more manageable and digestible text. Especially since all the unwanted text do not contribute to the general meaning of each sentence, which is what we are interested in.\n",
    "Our preprocessing pipeling will:\n",
    "- drop everything before the first '\\t' (every evidence seems to start with a number followed by '\\t')\n",
    "- delete all unnecessary spaces; only one space between each word will be left `QUESTO COMPRENDE \\n \\t \\s ?` \n",
    "- remove all tabs and newlines characters (there are many '\\t' in the dataset)  `???? MI SA CHE NON SERVE`\n",
    "- remove the rounded parenthesis (-LRB- and -RRB-)\n",
    "- drop words inside square brackets (everything that falls between -LSB- and -RSB-)\n",
    "- delete all words that contains non-english/non-numerical characters  (there are some greek letters for instance)\n",
    "- remove 's `E COSE SIMILI DA DEFINIRE O MAGARI NO`\n",
    "- drop everything after the last dot character (after that there are often some other words similar to tags which may be image descriptions or hyperlinks)\n",
    "- remove punctuation\n",
    "- set everything to lowercase\n",
    "- convert string in list of words \n",
    "\n",
    "`CAMBIARE L'ORDINE e AGGIUNGERNE ALTRE (la pipeline che c'è adesso è solo per andare avanti, possibili altre cose con nltk tipo stopwords, stemming, ecc `"
   ]
  },
  {
   "cell_type": "code",
   "execution_count": null,
   "metadata": {},
   "outputs": [],
   "source": [
    "import re \n",
    "# import unidecode\n",
    "# import unicodedata2\n",
    "# import nltk\n",
    "# nltk.download('stopwords')\n",
    "# from nltk.stem import WordNetLemmatizer, PorterStemmer\n",
    "# from nltk.corpus import stopwords\n",
    "\n",
    "\n",
    "# def lemmatize_and_remove_non_ascii(sentence:str):\n",
    "#     \"\"\"Remove unnecessary spaces, remove words with non ASCII characters and lemmatize\"\"\"\n",
    "#     sentence = sentence.split() #remove all unnecessary spaces and return a list of words\n",
    "#     lemmatizer = WordNetLemmatizer()\n",
    "#     sentence = [lemmatizer.lemmatize(word) for word in sentence if word.isascii()] #if a word has all ASCII characters: lemmatize, else: remove\n",
    "#     return sentence\n",
    "\n",
    "# def stemm_and_remove_non_ascii(sentence: str):\n",
    "#     sentence = sentence.split() #remove all unnecessary spaces and return a list of words\n",
    "#     ps = PorterStemmer()\n",
    "#     sentence = [ps.stem(word) for word in sentence if word.isascii()]#if a word has all ASCII characters: stemm, else: remove\n",
    "#     return sentence\n",
    "\n",
    "# def remove_accents(text):\n",
    "#     \"\"\"Replace accentuated characters by their non-accentuated counterparts\"\"\"\n",
    "#     text = unicodedata2.normalize('NFKD', text)\n",
    "#     return \"\".join([c for c in text if not unicodedata2.combining(c)])\n",
    "\n",
    "def preprocess_pipeline(sentence:str):\n",
    "    \"\"\"Apply standard preprocessing\"\"\"\n",
    "    \n",
    "    #drop everything before the first '\\t' \n",
    "    sentence = sentence[sentence.find('\\t')+1:]\n",
    "\n",
    "    #drop everything after the last period\n",
    "    period_idx = sentence.rfind('.')\n",
    "    if period_idx!= -1:\n",
    "        sentence = sentence[:period_idx]\n",
    "\n",
    "    #remove all rounded parenthesis \n",
    "    sentence = sentence.replace('-LRB-','').replace('-RRB-','')\n",
    "\n",
    "    #remove words inside square brackets\n",
    "    sentence = re.sub(\"-LSB.*?-RSB-\",\"\",sentence)\n",
    "\n",
    "    #remove all square brackets\n",
    "    sentence = sentence.replace('-LSB-','').replace('-RSB-','')\n",
    "\n",
    "    #remove all punctuation\n",
    "    sentence = sentence.translate(str.maketrans(dict.fromkeys(string.punctuation,' ')))\n",
    "\n",
    "    #subsitute the character ˈ with a space \n",
    "    sentence = sentence.replace('ˈ',' ')\n",
    "\n",
    "    #put everything to lowercase\n",
    "    sentence = sentence.lower()\n",
    "\n",
    "    return sentence\n",
    "\n",
    "def preprocess_type1(sentence:str):\n",
    "    \"\"\"Apply standard preprocessing and return a list of words\"\"\"\n",
    "\n",
    "    sentence = preprocess_pipeline(sentence)\n",
    "\n",
    "    #remove all unnecessary spaces and return a list of words\n",
    "    sentence = sentence.split()\n",
    "\n",
    "    return sentence\n",
    "\n",
    "# def preprocess_type2(sentence:str):\n",
    "#     \"\"\"Apply standard preprocessing, remove accents, remove words \n",
    "#     with non ASCII characters, lemmatize and return a list of words\"\"\"\n",
    "\n",
    "#     sentence = preprocess_pipeline(sentence)\n",
    "\n",
    "#     #replace accentuated characters by their non-accentuated counterparts\n",
    "#     sentence = remove_accents(sentence)\n",
    "\n",
    "#     #remove non-ascii words\n",
    "#     sentence = lemmatize_and_remove_non_ascii(sentence)\n",
    "\n",
    "#     return sentence\n",
    "\n",
    "# def preprocess_type3(sentence:str):\n",
    "#     \"\"\"Apply standard preprocessing, transliterates UNICODE characters in ASCII, \n",
    "#     remove words with non ASCII characters, lemmatize and return a list of words\"\"\"\n",
    "\n",
    "#     sentence = preprocess_pipeline(sentence)\n",
    "\n",
    "#     #transliterates any UNICODE string into the closest possible representation in ASCII text\n",
    "#     sentence = unidecode.unidecode(sentence)\n",
    "\n",
    "#     #remove non-ascii words\n",
    "#     sentence = lemmatize_and_remove_non_ascii(sentence)\n",
    "\n",
    "#     return sentence\n",
    "\n",
    "# def preprocess_type4(sentence: str):\n",
    "#     \"\"\"\n",
    "#         Apply standard preprocessing, removes stop-words and non ascii's,  and lemmatizes.\n",
    "#     \"\"\"\n",
    "\n",
    "#     sentence = preprocess_pipeline(sentence)\n",
    "#     sentence = unidecode.unidecode(sentence)\n",
    "#     lemmatized = lemmatize_and_remove_non_ascii(sentence)\n",
    "#     stop_words = set(stopwords.words('english'))\n",
    "#     filter_stop_words = [word for word in lemmatized if not word in stop_words]\n",
    "#     return filter_stop_words\n",
    "\n",
    "# def preprocess_type5(sentence: str):\n",
    "#     \"\"\"\n",
    "#         Apply standard preprocessing, removes non ascii's and stemmes.\n",
    "#     \"\"\"\n",
    "#     sentence = preprocess_pipeline(sentence)\n",
    "#     sentence = unidecode.unidecode(sentence)\n",
    "#     stemmed = stemm_and_remove_non_ascii(sentence)\n",
    "#     return stemmed\n",
    "\n",
    "# def preprocess_type6(sentence: str):\n",
    "#     \"\"\"\n",
    "#         Apply standard preprocessing, removes stop-words and non ascii's,  and stemmes.\n",
    "#     \"\"\"\n",
    "#     sentence = preprocess_pipeline(sentence)\n",
    "#     sentence = unidecode.unidecode(sentence)\n",
    "#     stemmed = stemm_and_remove_non_ascii(sentence)\n",
    "#     stop_words = set(stopwords.words('english'))\n",
    "#     filter_stop_words = [word for word in stemmed if not word in stop_words]\n",
    "#     return filter_stop_words\n",
    "\n",
    "\n"
   ]
  },
  {
   "cell_type": "markdown",
   "metadata": {},
   "source": [
    "To test our preprocessing pipeline we will apply it to an example in the dataset that we have identified to be a pretty tough one in terms of amount of cleanup necessary."
   ]
  },
  {
   "cell_type": "code",
   "execution_count": null,
   "metadata": {},
   "outputs": [],
   "source": [
    "#retrive from the dataset the 13th example. It is one about Greece in which the text is pretty messy \n",
    "original_claim = df.loc[0,'claim']\n",
    "original_evidence = df.loc[0,'evidence']\n",
    "\n",
    "processed_claim = preprocess_type1(original_claim)\n",
    "processed_evidence = preprocess_type1(original_evidence)\n",
    "\n",
    "print('Original claim:',original_claim)\n",
    "print('Processed claim:',processed_claim,'\\n')\n",
    "print('Original evidence:',original_evidence)\n",
    "print('Processed evidence:',processed_evidence,'\\n')\n"
   ]
  },
  {
   "cell_type": "markdown",
   "metadata": {},
   "source": [
    "As we can see, the final results relative to both the claim and evidence after the preprocessing are satisfacory. For this reason we are now going to apply the preprocessing function to the entire dataset encoded as a Dataframe."
   ]
  },
  {
   "cell_type": "code",
   "execution_count": null,
   "metadata": {},
   "outputs": [],
   "source": [
    "df['claim'] = df['claim'].apply(preprocess_type1)\n",
    "df['evidence'] = df['evidence'].apply(preprocess_type1)\n",
    "\n",
    "df.head(10)"
   ]
  },
  {
   "cell_type": "markdown",
   "metadata": {},
   "source": [
    "### 4. Vocabulary"
   ]
  },
  {
   "cell_type": "markdown",
   "metadata": {},
   "source": [
    "Next, we have to build the dictionaries that will be used for the numerical tokenization of the dataset and for the generation of the embedding matrix.\n",
    "\n",
    "The function `build_vocab` takes in input the list of unique words in the whole dataset and creates:\n",
    "- `word2int`: dictionary which associates each word with an integer.\n",
    "- `int2word`: dictionary which associates each integer with the relative word.\n",
    "\n",
    "These two dictionaries constitute a bijective mapping between words and indexes in the dataset."
   ]
  },
  {
   "cell_type": "code",
   "execution_count": null,
   "metadata": {},
   "outputs": [],
   "source": [
    "Vocab = namedtuple('Vocabulary',['word2int','int2word','unique_words'])\n",
    "\n",
    "def build_vocab(unique_words : list[str]): \n",
    "    \"\"\"\n",
    "        Builds the dictionaries word2int, int2word and put them in the Vocabulary\n",
    "    \"\"\"\n",
    "    word2int = OrderedDict()\n",
    "    int2word = OrderedDict()\n",
    "\n",
    "    for i, word in enumerate(unique_words):\n",
    "        word2int[word] = i+1           #plus 1 since the 0 will be used as tag token \n",
    "        int2word[i+1] = word\n",
    "    \n",
    "    return Vocab(word2int,int2word,unique_words)"
   ]
  },
  {
   "cell_type": "markdown",
   "metadata": {},
   "source": [
    "The function `build_vocab` needs in input the list of all the unique words in the dataset, so we're now going to retrive it from the dataset to be able to build the dictionaries. "
   ]
  },
  {
   "cell_type": "code",
   "execution_count": null,
   "metadata": {},
   "outputs": [],
   "source": [
    "unique_words_claim = df['claim'].explode().unique().tolist()  \n",
    "unique_words_evidence = df['evidence'].explode().unique().tolist()\n",
    "\n",
    "print('the number of unique words belonging to claims is:', len(unique_words_claim))\n",
    "print('the number of unique words belonging to evidences is:', len(unique_words_evidence))\n",
    "\n",
    "unique_words = set(unique_words_evidence + unique_words_claim)\n",
    "print('the number of unique words in the entire dataset is:', len(unique_words))\n"
   ]
  },
  {
   "cell_type": "code",
   "execution_count": null,
   "metadata": {},
   "outputs": [],
   "source": [
    "vocab = build_vocab(unique_words)"
   ]
  },
  {
   "cell_type": "markdown",
   "metadata": {},
   "source": [
    "Now that we have the vocabulary which contains the mapping between word and index we can 'numberise' the dataset. In particular we will add to the Dataframe 3 columns:\n",
    "- `idx_claim`: same as `claim` but with each word substituted by its index.\n",
    "- `idx_evidence`: same as `evidence` but with each word substituted by its index.\n",
    "- `idx_label`: label encoding as a unique integer (0 or 1 in this case)"
   ]
  },
  {
   "cell_type": "code",
   "execution_count": null,
   "metadata": {},
   "outputs": [],
   "source": [
    "def build_indexed_dataframe(df: pd.DataFrame):\n",
    "\n",
    "    df['idx_claim'] = df.claim.apply(lambda x:list(map(vocab.word2int.get,x)))\n",
    "    df['idx_evidence'] = df.evidence.apply(lambda x:list(map(vocab.word2int.get,x)))\n",
    "\n",
    "    df['label'] = df.label.astype('category')   #convert the label column into category dtype\n",
    "    df['idx_label'] = df.label.cat.codes        #assign unique integer to each category\n",
    "\n",
    "    return df \n",
    "\n",
    "def check_dataframe_numberization(df,vocab):\n",
    "\n",
    "    \"\"\"\n",
    "       Checks if the numberized dataframe will lead to the normal dataframe usind the reverse mapping \n",
    "    \"\"\"\n",
    "\n",
    "    claims = df['claim']\n",
    "    evidences = df['evidence']\n",
    "\n",
    "    idx_to_claims = df.idx_claim.apply(lambda x:list(map(vocab.int2word.get,x)))\n",
    "    idx_to_evidences = df.idx_evidence.apply(lambda x:list(map(vocab.int2word.get,x)))\n",
    "\n",
    "    if claims.equals(idx_to_claims) and evidences.equals(idx_to_evidences):\n",
    "        print('All right with dataset numberization')\n",
    "    else:\n",
    "        raise Exception('There are problems with Dataset numberization')\n",
    "\n",
    "df = build_indexed_dataframe(df)\n",
    "\n",
    "check_dataframe_numberization(df,vocab)"
   ]
  },
  {
   "cell_type": "markdown",
   "metadata": {},
   "source": [
    "Since the operation was successful, let's have a look at the numebrized dataframe."
   ]
  },
  {
   "cell_type": "code",
   "execution_count": null,
   "metadata": {},
   "outputs": [],
   "source": [
    "df.head()"
   ]
  },
  {
   "cell_type": "markdown",
   "metadata": {},
   "source": [
    "### 5. Data Loaders "
   ]
  },
  {
   "cell_type": "markdown",
   "metadata": {},
   "source": [
    "In order generate mini-batches for each split to be passed to the network we leveraged a `torchtext` utility, such as `BucketIterator`. It ensures that each mini-batch is composed of sequences of nearly the same length (depending on the chosen batch size), in order to add the minimum padding possible to each Tensor. In order to do so, we needed to create a Pytorch Dataset since this is what is requested by the BucketIterator.\\\n",
    "The problem is now how to define the length of the input to the model (which is used to create buckets of similar-lenghts senquences), since for this task we are dealing with multiple inputs (claim and evidence). \n"
   ]
  },
  {
   "cell_type": "code",
   "execution_count": null,
   "metadata": {},
   "outputs": [],
   "source": [
    "claim_len = df.claim.apply(len)\n",
    "evidence_len = df.evidence.apply(len)\n",
    "print('average length of a claim sentence:',claim_len.mean())\n",
    "print('average length of a evidence sentence:',evidence_len.mean())\n",
    "print('max difference in length of claim sentences:',claim_len.max() - claim_len.min())\n",
    "print('max difference in length of evidence sentences:',evidence_len.max() - evidence_len.min())"
   ]
  },
  {
   "cell_type": "markdown",
   "metadata": {},
   "source": [
    "Based on the fact that the average sentence length for an evidence is much bigger than for a claim, we decided to create buckets based on the length of the evidence and only with that being equal, based on the claim's length. So the minibatches will be constructed by grouping similar-size evidences and their corresponing claims.  "
   ]
  },
  {
   "cell_type": "code",
   "execution_count": null,
   "metadata": {},
   "outputs": [],
   "source": [
    "from torchtext.legacy.data import BucketIterator\n",
    "from torch.utils.data import Dataset\n",
    "\n",
    "class DataframeDataset(Dataset):\n",
    "\n",
    "    def __init__(self, dataframe: pd.DataFrame):\n",
    "        self.claims = dataframe['idx_claim']      #column of numberized claims \n",
    "        self.evidences = dataframe['idx_evidence']   #column of numberized evidences \n",
    "        self.labels = dataframe['idx_label']       #column of categorical label \n",
    "        self.claim_ids = dataframe['id']          #column of claim ids \n",
    "\n",
    "    def __len__(self):\n",
    "        return len(self.claims)\n",
    "\n",
    "    def __getitem__(self, idx):\n",
    "        return {'claim': self.claims[idx],\n",
    "                'evidence': self.evidences[idx],\n",
    "                'label': self.labels[idx],\n",
    "                'claim_id': self.claim_ids[idx]}\n",
    "\n",
    "def create_dataloaders(b_s : int, dataframe: pd.DataFrame):     #b_s = batch_size\n",
    "    \n",
    "    train_df = dataframe[dataframe['split'] == 'train'].reset_index(drop=True)      \n",
    "    val_df = dataframe[dataframe['split'] == 'val'].reset_index(drop=True)\n",
    "    test_df = dataframe[dataframe['split'] == 'test'].reset_index(drop=True)\n",
    "\n",
    "    #create DataframeDataset objects for each split \n",
    "    train_dataset = DataframeDataset(train_df)\n",
    "    val_dataset = DataframeDataset(val_df)\n",
    "    test_dataset = DataframeDataset(test_df)\n",
    "\n",
    "\n",
    "    # Group similar length text sequences together in batches and return an iterator for each split.\n",
    "    train_dataloader,val_dataloader,test_dataloader = BucketIterator.splits((train_dataset,val_dataset,test_dataset),\n",
    "                                                        batch_sizes=(b_s,b_s,b_s), sort_key=lambda x: (len(x['evidence']),len(x['claim'])), \n",
    "                                                        repeat=True, sort=False, shuffle=True, sort_within_batch=True)\n",
    "    \n",
    "    return train_dataloader,val_dataloader,test_dataloader \n"
   ]
  },
  {
   "cell_type": "markdown",
   "metadata": {},
   "source": [
    "### 6. Word embeddings"
   ]
  },
  {
   "cell_type": "markdown",
   "metadata": {},
   "source": [
    "We can finally build an embedding matrix that will be used by the embedding layer of our model to store pre-trained word embeddings and retrive them using indices. \n",
    "The function `build_embedding_matrix`, via the passed embedding model and the `word2int` dictionary, costructs a matrix that stores at each word-index the corresponding embedding vector found in GloVe. In particular we decided to use Glove as embedding model with a vector dimension of 300. \n",
    " \n",
    "In order to handle OOV words:\n",
    "- If a word in the dataset (identified by its unique integer) is present in GloVe model, we store its embedding vector in the embedding matrix.\n",
    "- Otherwise we assign as embedding to the OOV word a random vector of size 300, sampled from a uniform distribution."
   ]
  },
  {
   "cell_type": "markdown",
   "metadata": {},
   "source": [
    "First thing first, we need to download the `GloVe model` from gensim."
   ]
  },
  {
   "cell_type": "code",
   "execution_count": null,
   "metadata": {},
   "outputs": [],
   "source": [
    "emb_matrix_path = os.path.join(data_folder, \"emb_matrix.npy\")\n",
    "\n",
    "def download_glove_emb(force_download = False):   \n",
    "    \"\"\"\n",
    "        Download the glove embedding model and returns it \n",
    "    \"\"\"\n",
    "    emb_model = None\n",
    "\n",
    "    if os.path.exists(emb_matrix_path) and not force_download: \n",
    "        print('embedding matrix already saved in data folder')\n",
    "\n",
    "    else:\n",
    "        print('downloading glove embeddings ')        \n",
    "        embedding_dimension=300\n",
    "\n",
    "        download_path = \"glove-wiki-gigaword-{}\".format(embedding_dimension)\n",
    "        emb_model = gloader.load(download_path)\n",
    "        \n",
    "    return emb_model\n",
    "\n",
    "force_download = False      # to download glove model even if the emb_matrix has been already create. Mainly for testing purposes\n",
    "\n",
    "glove_embeddings = download_glove_emb(force_download)"
   ]
  },
  {
   "cell_type": "markdown",
   "metadata": {},
   "source": [
    "Now that we have the glove embeddings, we can check if there are some Out Of Vocabulary (OOV) words in our processed dataset.\n",
    "\\\n",
    "A word is considered OOV if it is present in our dataset but not in the GloVe embeddings. "
   ]
  },
  {
   "cell_type": "code",
   "execution_count": null,
   "metadata": {},
   "outputs": [],
   "source": [
    "def check_OOV_terms(embedding_model: gensim.models.keyedvectors.KeyedVectors, vocab):\n",
    "    \"\"\"\n",
    "        Given the embedding model and the unique words in the dataframe, determines the out-of-vocabulary words \n",
    "    \"\"\"\n",
    "    oov_words = []\n",
    "    idx_oov_words = []\n",
    "\n",
    "    if embedding_model is None:\n",
    "        print('WARNING: empty model, remember to download GloVe first or set force_dowload to True')\n",
    "\n",
    "    else: \n",
    "        for word in vocab.unique_words:\n",
    "            try: \n",
    "                embedding_model[word]\n",
    "            except:\n",
    "                oov_words.append(word) \n",
    "                idx_oov_words.append(vocab.word2int[word]) \n",
    "        \n",
    "        print(\"Total number of unique words in dataset:\",len(vocab.unique_words))\n",
    "        print(\"Total OOV terms: {0} ({1:.2f}%)\".format(len(oov_words), (float(len(oov_words)) / len(vocab.unique_words))*100))\n",
    "        print(\"Some OOV terms:\",random.sample(oov_words,15))\n",
    "    \n",
    "    return oov_words, idx_oov_words\n",
    "\n",
    "oov_words, idx_oov_words = check_OOV_terms(glove_embeddings,vocab)"
   ]
  },
  {
   "cell_type": "markdown",
   "metadata": {},
   "source": [
    "The processed dataset contains a total number of 35096 unique words. By using the GloVe embeddings for our embedding matrix, we obtain 3745 OOV words, that is the 8.97% of all different words in our dataset.\n",
    "\n",
    "Let's build the embedding matrix then."
   ]
  },
  {
   "cell_type": "code",
   "execution_count": null,
   "metadata": {},
   "outputs": [],
   "source": [
    "def build_embedding_matrix(emb_model: gensim.models.keyedvectors.KeyedVectors,vocab) -> np.ndarray:\n",
    "    \"\"\"\n",
    "        If the embedding for the word is present, add it to the embedding_matrix, otherwise insert a vector of random values.\n",
    "        Return the embedding matrix\n",
    "    \"\"\"\n",
    "    if emb_model is None:\n",
    "        print('WARNING: empty model, remember to download GloVe first or set force_dowload to True')\n",
    "        return None\n",
    "\n",
    "    embedding_dimension = len(emb_model[0]) #how many numbers each emb vector is composed of                                                           \n",
    "    embedding_matrix = np.zeros((len(vocab.word2int)+1, embedding_dimension), dtype=np.float32)   #create a matrix initialized with all zeros \n",
    "\n",
    "    for word, idx in vocab.word2int.items():\n",
    "        try:\n",
    "            embedding_vector = emb_model[word]\n",
    "        except (KeyError, TypeError):\n",
    "            embedding_vector = np.random.uniform(low=-0.05, high=0.05, size=embedding_dimension)\n",
    "\n",
    "        embedding_matrix[idx] = embedding_vector     #assign the retrived or the generated vector to the corresponding index \n",
    "    \n",
    "    print('Saving embedding matrix')\n",
    "    np.save(emb_matrix_path,embedding_matrix,allow_pickle=True)\n",
    "    print(\"Embedding matrix shape: {}\".format(embedding_matrix.shape))\n",
    "\n",
    "    return embedding_matrix\n",
    "\n",
    "embedding_matrix = build_embedding_matrix(glove_embeddings, vocab)"
   ]
  },
  {
   "cell_type": "markdown",
   "metadata": {},
   "source": [
    "Let's have a look at the first few rows of the freshly created embedding matrix, to get a sense of it."
   ]
  },
  {
   "cell_type": "code",
   "execution_count": null,
   "metadata": {},
   "outputs": [],
   "source": [
    "pd.DataFrame(embedding_matrix).head()"
   ]
  },
  {
   "cell_type": "markdown",
   "metadata": {},
   "source": [
    "As we can see the very first row is full of zeros since that's a 'fake embedding' for the padding token which will never be used in practice.\n",
    "\n",
    "To be completely sure that the embedding matrix has been built correctly, we check that the embedding vector associated with an index in the embedding matrix is the same as the one retrieved from glove by passing to it the word to which that index correspond. "
   ]
  },
  {
   "cell_type": "code",
   "execution_count": null,
   "metadata": {},
   "outputs": [],
   "source": [
    "def check_id_corr(glove: gensim.models.keyedvectors.KeyedVectors, vocab, matrix, dataframe):\n",
    "    \"\"\"\n",
    "        Checks whether the numberized dataframe and the index of the embedding matrix correspond\n",
    "    \"\"\"\n",
    "    if not glove:\n",
    "        print('WARNING: empty model, remember to download GloVe first or set force_dowload to True')\n",
    "        return \n",
    "    oov_words_ = []\n",
    "\n",
    "    for indexed_sentence in dataframe['idx_claim']+dataframe['idx_evidence']:\n",
    "\n",
    "        for token in indexed_sentence:\n",
    "            embedding = matrix[token]\n",
    "            word = vocab.int2word[token]\n",
    "            if word in glove.key_to_index:\n",
    "                assert(np.array_equal(embedding,glove[word]))\n",
    "            else:\n",
    "                oov_words_.append(word)\n",
    "\n",
    "    print('Double check OOV number:',len(set(oov_words_)))\n",
    "\n",
    "check_id_corr(glove_embeddings,vocab,embedding_matrix,df)"
   ]
  },
  {
   "cell_type": "markdown",
   "metadata": {},
   "source": [
    "Since no error has been found, we can safely proceed with the next steps."
   ]
  },
  {
   "cell_type": "markdown",
   "metadata": {},
   "source": [
    "To avoid downloading the GloVe embeddings more than once, since the process is really slow, in the case that this is not the first run and the embedding matrix has been already created and saved we can load it from the data folder"
   ]
  },
  {
   "cell_type": "code",
   "execution_count": null,
   "metadata": {},
   "outputs": [],
   "source": [
    "def load_data():\n",
    "    \"\"\"\n",
    "        Loads the saved emb_matrix from the data folder \n",
    "    \"\"\"\n",
    "    print('Loading embedding matrix')\n",
    "    emb_matrix = np.load(emb_matrix_path,allow_pickle=True)\n",
    "    print('Loaded')\n",
    "\n",
    "    return emb_matrix\n",
    "\n",
    "if os.path.exists(emb_matrix_path) :\n",
    "    embedding_matrix = load_data()\n",
    "else:\n",
    "    print('What you are looking for is not present in the folder')"
   ]
  },
  {
   "cell_type": "markdown",
   "metadata": {},
   "source": [
    "### 7. Model designing "
   ]
  },
  {
   "cell_type": "markdown",
   "metadata": {},
   "source": [
    "SCRIVERE ROBA DI COMMENTO OPPURE ANCHE NO"
   ]
  },
  {
   "cell_type": "code",
   "execution_count": null,
   "metadata": {},
   "outputs": [],
   "source": [
    "#pytoch imports\n",
    "\n",
    "import torch.nn as nn\n",
    "import torch.optim as optim\n",
    "import torch.nn.utils.rnn as rnn\n",
    "from torch.nn.utils.rnn import pack_padded_sequence, pad_packed_sequence\n",
    "\n",
    "#scikit-learn imports \n",
    "from sklearn.metrics import f1_score\n"
   ]
  },
  {
   "cell_type": "code",
   "execution_count": null,
   "metadata": {},
   "outputs": [],
   "source": [
    "Architecture = namedtuple('Architecture',['sentence_emb_strat','merge_input','cosine_sim'])"
   ]
  },
  {
   "cell_type": "code",
   "execution_count": null,
   "metadata": {},
   "outputs": [],
   "source": [
    "class custom_model(nn.Module):\n",
    "    \"\"\"\n",
    "        Class defining our model architecture  \n",
    "    \"\"\"\n",
    "    def __init__(self, emb_matrix: np.ndarray, pad_idx: int, max_tokens: int, architecture_param : Architecture) :\n",
    "        super().__init__()\n",
    "\n",
    "        self.embedding_layer, self.word_embedding_dim = self.build_emb_layer(emb_matrix,pad_idx)\n",
    "\n",
    "        self.max_tokens = max_tokens\n",
    "        self.pad_idx = pad_idx \n",
    "\n",
    "        self.param = architecture_param\n",
    "\n",
    "        if self.param.sentence_emb_strat == 'mlp':\n",
    "            self.mlp = nn.Linear(max_tokens,1)\n",
    "\n",
    "        elif self.param.sentence_emb_strat in ('rnn_last','rnn_avg'):\n",
    "            self.rnn = nn.LSTM(self.word_embedding_dim, self.word_embedding_dim, batch_first = True) \n",
    "\n",
    "\n",
    "    \n",
    "    def build_emb_layer(self, weights_matrix: np.ndarray, pad_idx : int, train: bool):\n",
    "    \n",
    "        matrix = torch.Tensor(weights_matrix)   #the embedding matrix \n",
    "        _ , embedding_dim = matrix.shape \n",
    "        emb_layer = nn.Embedding.from_pretrained(matrix, freeze=train, padding_idx = pad_idx)   #load pretrained weights in the layer and make it non-trainable \n",
    "        \n",
    "        return emb_layer, embedding_dim\n",
    "        \n",
    "\n",
    "    def pad_batch(self,batch: list):\n",
    "        \"\"\"\n",
    "            Input:  List of Tensors of variable lenght\n",
    "            Output: Batch of tensors all padded to the same length \n",
    "        \"\"\"\n",
    "        #if we are going to use an mlp as sentence embedding strategy, all the sentences should be padded to max_tokens length\n",
    "        if self.param.sentence_emb_strat == 'mlp':\n",
    "            batch[0] = nn.ConstantPad1d((0,self.max_tokens-batch[0].shape[0]),0)(batch[0])  \n",
    "\n",
    "        padded_batch = rnn.pad_sequence(batch,batch_first = True, padding_value = self.pad_idx)\n",
    "\n",
    "        return padded_batch\n",
    "\n",
    "\n",
    "    def words_embedding(self, word_idxs):\n",
    "        \"\"\"\n",
    "            Input:  [batch_size, num_tokens]\n",
    "            Output: [batch_size, num_tokens, embedding_dim]\n",
    "        \"\"\"\n",
    "        return self.embedding_layer(word_idxs)\n",
    "    \n",
    "    def sentence_embedding(self, embeddings, sentence_lenghts):\n",
    "        \"\"\"\n",
    "            Input:  [batch_size, num_tokens, embedding_dim]\n",
    "            Output: [batch_size, embedding_dim]\n",
    "        \"\"\"\n",
    "\n",
    "        strat = self.param.sentence_emb_strat\n",
    "\n",
    "        def mlp():\n",
    "            \n",
    "            reshaped_embeddings = embeddings.permute(0,2,1)     #swap last two dimensions since Linear operates only on last dimension\n",
    "\n",
    "            sentence_emb = self.mlp(reshaped_embeddings)   \n",
    "\n",
    "            return sentence_emb.squeeze(2)   #remove dimension of size 1 \n",
    "        \n",
    "        def rnn_last():\n",
    "            \n",
    "            packed_embeddings = pack_padded_sequence(embeddings, sentence_lenghts, batch_first=True, enforce_sorted=False)\n",
    "            packed_out, (last_h, _)  = self.rnn(packed_embeddings)\n",
    "\n",
    "            return last_h.squeeze(0)  #remove first dimension of 1 (TODO: if bidirectional or more than 1 layer this has to be handled)\n",
    "        \n",
    "        def rnn_avg():\n",
    "\n",
    "            packed_embeddings = pack_padded_sequence(embeddings, sentence_lenghts, batch_first=True, enforce_sorted=False)\n",
    "            packed_out, _  = self.rnn(packed_embeddings)\n",
    "\n",
    "            unpacked_out, l = pad_packed_sequence(packed_out,batch_first=True)\n",
    "\n",
    "            avg = unpacked_out.sum(dim=1).div(unpacked_out.count_nonzero(dim=1))\n",
    "\n",
    "            return avg\n",
    "        \n",
    "        def bag_of_vectors():\n",
    "\n",
    "            avg = embeddings.sum(dim=1).div(embeddings.count_nonzero(dim=1))\n",
    "\n",
    "            return avg \n",
    "\n",
    "        if strat == 'mlp':\n",
    "            return mlp()\n",
    "        elif strat == 'rnn_last':\n",
    "            return rnn_last()\n",
    "        elif strat == 'rnn_avg':\n",
    "            return rnn_avg()\n",
    "        elif strat == 'bag_of_vectors':\n",
    "            return bag_of_vectors()\n",
    "        else :\n",
    "            raise Exception('Incorrect name for sentence embedding strategy')\n",
    "\n",
    "    def merge_sentence_emb(claims,evidences):\n",
    "\n",
    "        return \n",
    "\n",
    "\n",
    "\n",
    "\n",
    "\n",
    "    def forward(self, claims, claim_lengths, evidences, evidence_lengths):\n",
    "\n",
    "        #pad the sentences to have fixed size \n",
    "        padded_claims = self.pad_batch(claims)\n",
    "        padded_evidences = self.pad_batch(evidences)\n",
    "        \n",
    "        #embed each word in a sentence with a 300d vector \n",
    "        word_emb_claims = self.words_embedding(padded_claims)          \n",
    "        word_emb_evidences = self.words_embedding(padded_evidences)\n",
    "\n",
    "        #compute sentence embedding\n",
    "        sentence_emb_claims = self.sentence_embedding(word_emb_claims)\n",
    "        sentence_emb_evidences = self.sentence_embedding(word_emb_evidences)\n",
    "\n",
    "        #merge multi-inputs \n",
    "        classification_input = self.merge_sentence_emb(sentence_emb_claims,sentence_emb_evidences)\n",
    "\n",
    "        return \n",
    "\n",
    "        \n",
    "\n",
    "        \n",
    "        "
   ]
  },
  {
   "cell_type": "code",
   "execution_count": null,
   "metadata": {},
   "outputs": [],
   "source": [
    "if 'ciao' in ('cia','miao'):\n",
    "    print('a')"
   ]
  },
  {
   "cell_type": "code",
   "execution_count": null,
   "metadata": {},
   "outputs": [],
   "source": [
    "max_tokens = max(df.claim.apply(len).max(),df.evidence.apply(len).max())"
   ]
  }
 ],
 "metadata": {
  "interpreter": {
   "hash": "16b10856870a6af5fec4ffddd4d7318a6f2add2c9f3b4bd7caecf75cea33b7bd"
  },
  "kernelspec": {
   "display_name": "Python 3.9.7 64-bit ('nlp': conda)",
   "language": "python",
   "name": "python3"
  },
  "language_info": {
   "codemirror_mode": {
    "name": "ipython",
    "version": 3
   },
   "file_extension": ".py",
   "mimetype": "text/x-python",
   "name": "python",
   "nbconvert_exporter": "python",
   "pygments_lexer": "ipython3",
   "version": "3.9.7"
  },
  "orig_nbformat": 4
 },
 "nbformat": 4,
 "nbformat_minor": 2
}
