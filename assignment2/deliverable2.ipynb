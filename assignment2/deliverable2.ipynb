{
 "cells": [
  {
   "cell_type": "markdown",
   "metadata": {},
   "source": [
    "# **Fact checking, Neural Languange Inference (NLI)**\n",
    "\n",
    "**Authors**: Giacomo Berselli, Marco Cucè, Riccardo De Matteo"
   ]
  },
  {
   "cell_type": "code",
   "execution_count": null,
   "metadata": {},
   "outputs": [],
   "source": [
    "# to print all output for a cell instead of only last one \n",
    "from IPython.core.interactiveshell import InteractiveShell\n",
    "InteractiveShell.ast_node_interactivity = 'all'"
   ]
  },
  {
   "cell_type": "markdown",
   "metadata": {},
   "source": [
    "### 1. Libraries and Imports "
   ]
  },
  {
   "cell_type": "code",
   "execution_count": null,
   "metadata": {},
   "outputs": [],
   "source": [
    "import os\n",
    "import requests\n",
    "import zipfile\n",
    "import random\n",
    "import string \n",
    "\n",
    "import torch\n",
    "\n",
    "import numpy as np\n",
    "import pandas as pd\n",
    "\n",
    "import gensim\n",
    "import gensim.downloader as gloader\n",
    "\n",
    "import time \n",
    "\n",
    "from collections import OrderedDict, namedtuple\n",
    "\n",
    "# Fix data seed to achieve reproducible results\n",
    "torch.manual_seed(0)\n",
    "random.seed(0)\n",
    "np.random.seed(0)\n",
    "torch.backends.cudnn.benchmark = False\n",
    "torch.backends.cudnn.deterministic = True"
   ]
  },
  {
   "cell_type": "code",
   "execution_count": null,
   "metadata": {},
   "outputs": [],
   "source": [
    "print(\"Current work directory: {}\".format(os.getcwd())) #print the current working directory \n",
    "\n",
    "data_folder = os.path.join(os.getcwd(),\"data\") # directory containing the notebook\n",
    "\n",
    "if not os.path.exists(data_folder):   #create folder where all data will be stored \n",
    "    os.makedirs(data_folder)"
   ]
  },
  {
   "cell_type": "markdown",
   "metadata": {},
   "source": [
    "### 2. Data handling"
   ]
  },
  {
   "cell_type": "markdown",
   "metadata": {},
   "source": [
    "First thing first, we download the raw dataset, unzip it and store the csv document of each split in the dataset folder."
   ]
  },
  {
   "cell_type": "code",
   "execution_count": null,
   "metadata": {},
   "outputs": [],
   "source": [
    "raw_dataset_path = os.path.join(data_folder,'raw_dataset')   #path of the raw dataset as downloaded \n",
    "\n",
    "def save_response_content(response, destination):    \n",
    "    CHUNK_SIZE =32768\n",
    "\n",
    "    with open(destination, \"wb\") as f:\n",
    "        for chunk in response.iter_content(CHUNK_SIZE):\n",
    "            if chunk: # filter out keep-alive new chunks                \n",
    "                f.write(chunk)\n",
    "\n",
    "def download_data(data_folder):\n",
    "    zip_dataset_path = os.path.join(raw_dataset_path,'fever_data.zip')    \n",
    "    data_url_id =\"1wArZhF9_SHW17WKNGeLmX-QTYw9Zscl1\"    \n",
    "    url =\"https://docs.google.com/uc?export=download\"\n",
    "\n",
    "    if not os.path.exists(raw_dataset_path):        \n",
    "        os.makedirs(raw_dataset_path)\n",
    "\n",
    "    if not os.path.exists(zip_dataset_path):\n",
    "        print(\"Downloading FEVER data splits...\")\n",
    "        with requests.Session() as current_session:           \n",
    "            response = current_session.get(url, params={'id': data_url_id}, stream=True)\n",
    "\n",
    "        save_response_content(response, zip_dataset_path)\n",
    "        print(\"Download completed!\")\n",
    "\n",
    "        print(\"Extracting dataset...\")\n",
    "        with zipfile.ZipFile(zip_dataset_path) as loaded_zip:            \n",
    "            loaded_zip.extractall(raw_dataset_path)\n",
    "        print(\"Extraction completed!\")\n",
    "\n",
    "download_data(data_folder)"
   ]
  },
  {
   "cell_type": "markdown",
   "metadata": {},
   "source": [
    "Now that we have the csv files of the train, val and test splits, we encode all three as a unique pandas Dataframe to be able to better inspect it and manipulate it as a whole.\n",
    "The Dataframe `df` is structured as follows: \n",
    "- `claim`: the fact to verify \n",
    "- `evidence`: one of the possibly multiple sentences in the dataset which supports or refutes the `claim`\n",
    "- `id`: number associated to the fact to verify (different rows can have the same `id`)\n",
    "- `label`: wether the evidence REFUTES or SUPPORTS the claim\n",
    "- `split`: the split to which one claim belongs (train, val, test)\n"
   ]
  },
  {
   "cell_type": "code",
   "execution_count": null,
   "metadata": {},
   "outputs": [],
   "source": [
    "#encode the entire dataset in a pandas dataframe and add the split column\n",
    "def encode_dataset(): \n",
    "\n",
    "    df = pd.DataFrame()\n",
    "    for split in ['train','val','test']:\n",
    "        split_path = os.path.join(raw_dataset_path,f\"{split}_pairs.csv\")\n",
    "        split_df = pd.read_csv(split_path,index_col=0)\n",
    "        split_df['split'] = split\n",
    "\n",
    "        df = df.append(split_df,ignore_index=True,)\n",
    "\n",
    "    df.columns = df.columns.str.lower()\n",
    "    df = df.reset_index(drop=True)\n",
    "\n",
    "    return df \n",
    "\n",
    "df = encode_dataset()"
   ]
  },
  {
   "cell_type": "markdown",
   "metadata": {},
   "source": [
    "Let's inspect the newly created dataset "
   ]
  },
  {
   "cell_type": "code",
   "execution_count": null,
   "metadata": {},
   "outputs": [],
   "source": [
    "df.head()\n",
    "print('The splits present in the dataframe are:',df['split'].unique())\n",
    "print('Unique labels in the dataset:',df['label'].unique())"
   ]
  },
  {
   "cell_type": "markdown",
   "metadata": {},
   "source": [
    "From the above results we can see that the dataset has been structured correctly.\\\n",
    "Now we print some values to check the dimensions of the different splits and to retrive useful informations."
   ]
  },
  {
   "cell_type": "code",
   "execution_count": null,
   "metadata": {},
   "outputs": [],
   "source": [
    "print('Dataframe shape:', df.shape)\n",
    "print('Number of example in train:',len(df[df['split']=='train']))\n",
    "print('Number of example in val:',len(df[df['split']=='val']))\n",
    "print('Number of example in test:',len(df[df['split']=='test']))"
   ]
  },
  {
   "cell_type": "markdown",
   "metadata": {},
   "source": [
    "The number of claims in the training split of the dataset is clearly much higher than that of val and test splits."
   ]
  },
  {
   "cell_type": "markdown",
   "metadata": {},
   "source": [
    "The dataset should probably undergo some preprocessing before it can be used to train our model. Even if this was already noticeable from the few examples taken from the dataframe that we printed above, let's now show an examples of an evidence to make more evident the work that we will need to do."
   ]
  },
  {
   "cell_type": "code",
   "execution_count": null,
   "metadata": {},
   "outputs": [],
   "source": [
    "print(list(df.sample(1)['evidence']))"
   ]
  },
  {
   "cell_type": "markdown",
   "metadata": {},
   "source": [
    "### 3. Text preprocessing "
   ]
  },
  {
   "cell_type": "markdown",
   "metadata": {},
   "source": [
    "BOH FORSE QUI TROVARE UN MODO PER VEDERE COSA ANDREBBE PULITO DAL DATASET "
   ]
  },
  {
   "cell_type": "markdown",
   "metadata": {},
   "source": [
    "Both claims and evidence contain a lot of unwanted text: punctuation, symbols, meta-characters, foreign words, tags, ecc. For some reason claims are much cleaner that evidences. Nonetheless we will preprocess both of them, to end up with a more manageable and digestible text. Especially since all the unwanted text do not contribute to the general meaning of each sentence, which is what we are interested in.\n",
    "Our preprocessing pipeling will:\n",
    "- drop everything before the first '\\t' (every evidence seems to start with a number followed by '\\t')\n",
    "- delete all unnecessary spaces; only one space between each word will be left `QUESTO COMPRENDE \\n \\t \\s ?` \n",
    "- remove all tabs and newlines characters (there are many '\\t' in the dataset)  `???? MI SA CHE NON SERVE`\n",
    "- remove the rounded parenthesis (-LRB- and -RRB-)\n",
    "- drop words inside square brackets (everything that falls between -LSB- and -RSB-)\n",
    "- delete all words that contains non-english/non-numerical characters  (there are some greek letters for instance)\n",
    "- remove 's `E COSE SIMILI DA DEFINIRE O MAGARI NO`\n",
    "- drop everything after the last dot character (after that there are often some other words similar to tags which may be image descriptions or hyperlinks)\n",
    "- remove punctuation\n",
    "- set everything to lowercase\n",
    "- convert string in list of words \n",
    "\n",
    "`CAMBIARE L'ORDINE e AGGIUNGERNE ALTRE (la pipeline che c'è adesso è solo per andare avanti, possibili altre cose con nltk tipo stopwords, stemming, ecc `"
   ]
  },
  {
   "cell_type": "code",
   "execution_count": null,
   "metadata": {},
   "outputs": [],
   "source": [
    "import re \n",
    "\n",
    "def preprocess_pipeline(sentence:str):\n",
    "    \n",
    "    #drop everything before the first '\\t' \n",
    "    sentence = sentence[sentence.find('\\t')+1:]\n",
    "\n",
    "    #drop everything after the last period\n",
    "    period_idx = sentence.rfind('.')\n",
    "    if period_idx!= -1:\n",
    "        sentence = sentence[:period_idx]\n",
    "\n",
    "    #remove all rounded parenthesis \n",
    "    sentence = sentence.replace('-LRB-','').replace('-RRB-','')\n",
    "\n",
    "    #remove words inside square brackets\n",
    "    sentence = re.sub(\"-LSB.*?-RSB-\",\"\",sentence)\n",
    "\n",
    "    sentence = sentence.replace('-LSB-','').replace('-RSB-','')\n",
    "\n",
    "    #remove all punctuation\n",
    "    sentence = sentence.translate(str.maketrans(dict.fromkeys(string.punctuation,' ')))\n",
    "\n",
    "    #subsitute the charachten ˈ with a space \n",
    "    sentence = sentence.replace('ˈ',' ')\n",
    "\n",
    "    #put everything to lowercase\n",
    "    sentence = sentence.lower()\n",
    "\n",
    "    #remove all unnecessary spaces and return a list of words\n",
    "    sentence = sentence.split()\n",
    "\n",
    "    return sentence"
   ]
  },
  {
   "cell_type": "markdown",
   "metadata": {},
   "source": [
    "To test our preprocessing pipeline we will apply it to an example in the dataset that we have identified to be a pretty tough one in terms of amount of cleanup necessary."
   ]
  },
  {
   "cell_type": "code",
   "execution_count": null,
   "metadata": {},
   "outputs": [],
   "source": [
    "#retrive from the dataset the 13th example. It is one about Greece in which the text is pretty messy \n",
    "original_claim = df.loc[0,'claim']\n",
    "original_evidence = df.loc[0,'evidence']\n",
    "\n",
    "processed_claim = preprocess_pipeline(original_claim)\n",
    "processed_evidence = preprocess_pipeline(original_evidence)\n",
    "\n",
    "print('Original claim:',original_claim)\n",
    "print('Processed claim:',processed_claim)\n",
    "print('\\nOriginal evidence:',original_evidence)\n",
    "print('Processed evidence:',processed_evidence)\n"
   ]
  },
  {
   "cell_type": "markdown",
   "metadata": {},
   "source": [
    "As we can see, the final results relative to both the claim and evidence after the preprocessing are satisfacory. For this reason we are now going to apply the preprocessing function to the entire dataset encoded as a Dataframe."
   ]
  },
  {
   "cell_type": "code",
   "execution_count": null,
   "metadata": {},
   "outputs": [],
   "source": [
    "df['claim'] = df['claim'].apply(preprocess_pipeline)\n",
    "df['evidence'] = df['evidence'].apply(preprocess_pipeline)\n",
    "\n",
    "df.head(10)"
   ]
  },
  {
   "cell_type": "markdown",
   "metadata": {},
   "source": [
    "### 4. Vocabulary"
   ]
  },
  {
   "cell_type": "markdown",
   "metadata": {},
   "source": [
    "Next, we have to build the dictionaries that will be used for the numerical tokenization of the dataset and for the generation of the embedding matrix.\n",
    "\n",
    "The function `build_vocab` takes in input the list of unique words in the whole dataset and creates:\n",
    "- `word2int`: dictionary which associates each word with an integer.\n",
    "- `int2word`: dictionary which associates each integer with the relative word.\n",
    "\n",
    "These two dictionaries constitute a bijective mapping between words and indexes in the dataset."
   ]
  },
  {
   "cell_type": "code",
   "execution_count": null,
   "metadata": {},
   "outputs": [],
   "source": [
    "Vocab = namedtuple('Vocabulary',['word2int','int2word','unique_words'])\n",
    "\n",
    "def build_vocab(unique_words : list[str]): \n",
    "    \"\"\"\n",
    "        Builds the dictionaries word2int, int2word and put them in the Vocabulary\n",
    "    \"\"\"\n",
    "    word2int = OrderedDict()\n",
    "    int2word = OrderedDict()\n",
    "\n",
    "    for i, word in enumerate(unique_words):\n",
    "        word2int[word] = i+1           #plus 1 since the 0 will be used as tag token \n",
    "        int2word[i+1] = word\n",
    "    \n",
    "    return Vocab(word2int,int2word,unique_words)"
   ]
  },
  {
   "cell_type": "markdown",
   "metadata": {},
   "source": [
    "The function `build_vocab` needs in input the list of all the unique words in the dataset, so we're now going to retrive it from the dataset to be able to build the dictionaries. "
   ]
  },
  {
   "cell_type": "code",
   "execution_count": null,
   "metadata": {},
   "outputs": [],
   "source": [
    "unique_words_claim = df['claim'].explode().unique().tolist()  \n",
    "unique_words_evidence = df['evidence'].explode().unique().tolist()\n",
    "\n",
    "print('the number of unique words belonging to claims is:', len(unique_words_claim))\n",
    "print('the number of unique words belonging to evidences is:', len(unique_words_evidence))\n",
    "\n",
    "unique_words = set(unique_words_evidence + unique_words_claim)\n",
    "print('the number of unique words in the entire dataset is:', len(unique_words))\n"
   ]
  },
  {
   "cell_type": "code",
   "execution_count": null,
   "metadata": {},
   "outputs": [],
   "source": [
    "vocab = build_vocab(unique_words)"
   ]
  },
  {
   "cell_type": "markdown",
   "metadata": {},
   "source": [
    "Now that we have the vocabulary which contains the mapping between word and index we can 'numberise' the dataset. In particular we will add to the Dataframe 3 columns:\n",
    "- `idx_claim`: same as `claim` but with each word substituted by its index.\n",
    "- `idx_evidence`: same as `evidence` but with each word substituted by its index.\n",
    "- `idx_label`: label encoding as a unique integer (0 or 1 in this case)"
   ]
  },
  {
   "cell_type": "code",
   "execution_count": null,
   "metadata": {},
   "outputs": [],
   "source": [
    "def build_indexed_dataframe(df: pd.DataFrame):\n",
    "\n",
    "    df['idx_claim'] = df.claim.apply(lambda x:list(map(vocab.word2int.get,x)))\n",
    "    df['idx_evidence'] = df.evidence.apply(lambda x:list(map(vocab.word2int.get,x)))\n",
    "\n",
    "    df['label'] = df.label.astype('category')   #convert the label column into category dtype\n",
    "    df['idx_label'] = df.label.cat.codes        #assign unique integer to each category\n",
    "\n",
    "    return df \n",
    "\n",
    "def check_dataframe_numberization(df,vocab):\n",
    "\n",
    "    \"\"\"\n",
    "       Checks if the numberized dataframe will lead to the normal dataframe usind the reverse mapping \n",
    "    \"\"\"\n",
    "\n",
    "    claims = df['claim']\n",
    "    evidences = df['evidence']\n",
    "\n",
    "    idx_to_claims = df.idx_claim.apply(lambda x:list(map(vocab.int2word.get,x)))\n",
    "    idx_to_evidences = df.idx_evidence.apply(lambda x:list(map(vocab.int2word.get,x)))\n",
    "\n",
    "    if claims.equals(idx_to_claims) and evidences.equals(idx_to_evidences):\n",
    "        print('All right with dataset numberization')\n",
    "    else:\n",
    "        print('There are problems with Dataset numberization')\n",
    "\n",
    "df = build_indexed_dataframe(df)\n",
    "\n",
    "check_dataframe_numberization(df,vocab)"
   ]
  },
  {
   "cell_type": "markdown",
   "metadata": {},
   "source": [
    "Since the operation was successful, let's have a look at the numebrized dataframe."
   ]
  },
  {
   "cell_type": "code",
   "execution_count": null,
   "metadata": {},
   "outputs": [],
   "source": [
    "df.head()"
   ]
  },
  {
   "cell_type": "markdown",
   "metadata": {},
   "source": [
    "### 5. Data Loaders "
   ]
  },
  {
   "cell_type": "markdown",
   "metadata": {},
   "source": [
    "In order generate mini-batches for each split to be passed to the network we leveraged a `torchtext` utility, such as `BucketIterator`. It ensures that each mini-batch is composed of sequences of nearly the same length (depending on the chosen batch size), in order to add the minimum padding possible to each Tensor. In order to do so, we needed to create a Pytorch Dataset since this is what is requested by the BucketIterator.\\\n",
    "The problem is now how to define the length of the input to the model (which is used to create buckets of similar-lenghts senquences), since for this task we are dealing with multiple inputs (claim and evidence). \n"
   ]
  },
  {
   "cell_type": "code",
   "execution_count": null,
   "metadata": {},
   "outputs": [],
   "source": [
    "claim_lengths = df.claim.apply(len)\n",
    "evidence_lengths = df.evidence.apply(len)\n",
    "print('average length of a claim sentence:',claim_lengths.mean())\n",
    "print('average length of a evidence sentence:',evidence_lengths.mean())\n",
    "print('max difference in length of claim sentences:',claim_lengths.max() - claim_lengths.min())\n",
    "print('max difference in length of evidence sentences:',evidence_lengths.max() - evidence_lengths.min())"
   ]
  },
  {
   "cell_type": "markdown",
   "metadata": {},
   "source": [
    "Based on QUALCOSA we decided QUALCOSA"
   ]
  },
  {
   "cell_type": "code",
   "execution_count": null,
   "metadata": {},
   "outputs": [],
   "source": [
    "from torchtext.legacy.data import BucketIterator\n",
    "from torch.utils.data import Dataset\n",
    "\n",
    "class DataframeDataset(Dataset):\n",
    "\n",
    "    def __init__(self, dataframe: pd.DataFrame):\n",
    "        self.claims = dataframe['idx_claim']      #column of numberized claims \n",
    "        self.evidences = dataframe['idx_evidence']   #column of numberized evidences \n",
    "        self.labels = dataframe['idx_label']       #column of categorical label \n",
    "        self.claim_ids = dataframe['id']          #column of claim ids \n",
    "\n",
    "    def __len__(self):\n",
    "        return len(self.claims)\n",
    "\n",
    "    def __getitem__(self, idx):\n",
    "        return {'claim': self.claims[idx],\n",
    "                'evidence': self.evidences[idx],\n",
    "                'label': self.labels[idx],\n",
    "                'claim_id': self.claim_ids[idx]}\n",
    "\n",
    "def create_dataloaders(b_s : int, dataframe: pd.DataFrame):     #b_s = batch_size\n",
    "    \n",
    "    train_df = dataframe[dataframe['split'] == 'train'].reset_index(drop=True)      \n",
    "    val_df = dataframe[dataframe['split'] == 'val'].reset_index(drop=True)\n",
    "    test_df = dataframe[dataframe['split'] == 'test'].reset_index(drop=True)\n",
    "\n",
    "    #create DataframeDataset objects for each split \n",
    "    train_dataset = DataframeDataset(train_df)\n",
    "    val_dataset = DataframeDataset(val_df)\n",
    "    test_dataset = DataframeDataset(test_df)\n",
    "\n",
    "\n",
    "    # Group similar length text sequences together in batches and return an iterator for each split.\n",
    "    train_dataloader,val_dataloader,test_dataloader = BucketIterator.splits((train_dataset,val_dataset,test_dataset),\n",
    "                                                        batch_sizes=(b_s,b_s,b_s), sort_key=lambda x: (len(x['claim']),len(x['evidence'])), \n",
    "                                                        repeat=True, sort=False, shuffle=True, sort_within_batch=True)\n",
    "    \n",
    "    return train_dataloader,val_dataloader,test_dataloader \n"
   ]
  },
  {
   "cell_type": "code",
   "execution_count": null,
   "metadata": {},
   "outputs": [],
   "source": [
    "tr, vl, ts = create_dataloaders(16,df)"
   ]
  },
  {
   "cell_type": "code",
   "execution_count": null,
   "metadata": {},
   "outputs": [],
   "source": [
    "tr.init_epoch()\n",
    "tr.create_batches()"
   ]
  },
  {
   "cell_type": "code",
   "execution_count": null,
   "metadata": {},
   "outputs": [],
   "source": [
    "tr.batches"
   ]
  },
  {
   "cell_type": "code",
   "execution_count": null,
   "metadata": {},
   "outputs": [],
   "source": [
    "for batch in tr.batches:\n",
    "    print([len(example['claim']) for example in batch])\n",
    "    print([len(example['evidence']) for example in batch])\n",
    "\n",
    "    print(list(map(vocab.int2word.get,batch[2]['claim'])))\n",
    "    print(list(map(vocab.int2word.get,batch[2]['evidence'])))\n",
    "    print(batch[2]['label'])\n",
    "    break"
   ]
  },
  {
   "cell_type": "code",
   "execution_count": null,
   "metadata": {},
   "outputs": [],
   "source": []
  }
 ],
 "metadata": {
  "interpreter": {
   "hash": "16b10856870a6af5fec4ffddd4d7318a6f2add2c9f3b4bd7caecf75cea33b7bd"
  },
  "kernelspec": {
   "display_name": "Python 3.9.7 64-bit ('nlp': conda)",
   "language": "python",
   "name": "python3"
  },
  "language_info": {
   "codemirror_mode": {
    "name": "ipython",
    "version": 3
   },
   "file_extension": ".py",
   "mimetype": "text/x-python",
   "name": "python",
   "nbconvert_exporter": "python",
   "pygments_lexer": "ipython3",
   "version": "3.9.7"
  },
  "orig_nbformat": 4
 },
 "nbformat": 4,
 "nbformat_minor": 2
}
